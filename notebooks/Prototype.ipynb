{
 "cells": [
  {
   "cell_type": "code",
   "execution_count": 2,
   "id": "ee62b517",
   "metadata": {},
   "outputs": [],
   "source": [
    "import pandas as pd\n",
    "import numpy as np\n",
    "from ast import literal_eval\n",
    "from collections import Counter\n",
    "from keras.preprocessing.text import Tokenizer\n",
    "from keras.utils import to_categorical\n",
    "from keras import models\n",
    "from keras import layers\n",
    "import pickle\n",
    "import matplotlib.pyplot as plt"
   ]
  },
  {
   "cell_type": "code",
   "execution_count": 3,
   "id": "26250b0a",
   "metadata": {},
   "outputs": [],
   "source": [
    "input_folder_path='../input_data/'\n",
    "output_folder_path = '../trained_model/'\n",
    "input_file_name = 'movies_metadata.csv'"
   ]
  },
  {
   "cell_type": "code",
   "execution_count": 4,
   "id": "917174f0",
   "metadata": {},
   "outputs": [],
   "source": [
    "num_of_genres=10\n",
    "num_words=10000"
   ]
  },
  {
   "cell_type": "markdown",
   "id": "f79b9a86",
   "metadata": {},
   "source": [
    "# 1. Data preparation"
   ]
  },
  {
   "cell_type": "markdown",
   "id": "c8900700",
   "metadata": {},
   "source": [
    "## 1.1 Reading movies data"
   ]
  },
  {
   "cell_type": "markdown",
   "id": "be60af13",
   "metadata": {},
   "source": [
    "We import the csv file with the movies information."
   ]
  },
  {
   "cell_type": "code",
   "execution_count": 5,
   "id": "31e15a5c",
   "metadata": {},
   "outputs": [],
   "source": [
    "movies = pd.read_csv(input_folder_path+input_file_name, \n",
    "                     usecols= ['id','title', 'overview', 'genres'],\n",
    "                     dtype={\"id\": str, \"title\": str, \"overview\": str},\n",
    "                     converters={\"genres\": literal_eval})"
   ]
  },
  {
   "cell_type": "code",
   "execution_count": 6,
   "id": "8807bbc1",
   "metadata": {},
   "outputs": [
    {
     "data": {
      "text/plain": [
       "(45466, 4)"
      ]
     },
     "execution_count": 6,
     "metadata": {},
     "output_type": "execute_result"
    }
   ],
   "source": [
    "movies.shape"
   ]
  },
  {
   "cell_type": "markdown",
   "id": "af23cd19",
   "metadata": {},
   "source": [
    "## 1.2 Filtering"
   ]
  },
  {
   "cell_type": "markdown",
   "id": "7a4d147a",
   "metadata": {},
   "source": [
    "We remove useless rows:\n",
    "- with title value missing\n",
    "- with overview value too short\n",
    "- with an empty genres list"
   ]
  },
  {
   "cell_type": "code",
   "execution_count": 7,
   "id": "416ec87f",
   "metadata": {},
   "outputs": [],
   "source": [
    "movies = movies[movies.title.notna()]"
   ]
  },
  {
   "cell_type": "code",
   "execution_count": 8,
   "id": "af860323",
   "metadata": {},
   "outputs": [],
   "source": [
    "movies = movies[movies.overview.str.len()>50]"
   ]
  },
  {
   "cell_type": "code",
   "execution_count": 9,
   "id": "40872d53",
   "metadata": {},
   "outputs": [],
   "source": [
    "movies = movies[movies.genres.apply(len)>0]"
   ]
  },
  {
   "cell_type": "code",
   "execution_count": 10,
   "id": "ba26d711",
   "metadata": {},
   "outputs": [
    {
     "data": {
      "text/plain": [
       "(41910, 4)"
      ]
     },
     "execution_count": 10,
     "metadata": {},
     "output_type": "execute_result"
    }
   ],
   "source": [
    "movies.shape"
   ]
  },
  {
   "cell_type": "markdown",
   "id": "0fac8616",
   "metadata": {},
   "source": [
    "## 1.3 Chosing an unique genre"
   ]
  },
  {
   "cell_type": "markdown",
   "id": "f7983249",
   "metadata": {},
   "source": [
    "The movies dataset has, for each movie, a list of genres with length between 1 and 3. There are 20 different genres."
   ]
  },
  {
   "cell_type": "code",
   "execution_count": 11,
   "id": "58755682",
   "metadata": {},
   "outputs": [],
   "source": [
    "all_genres = [element for list_ in movies.genres for element in list_]"
   ]
  },
  {
   "cell_type": "code",
   "execution_count": 12,
   "id": "04371b6e",
   "metadata": {},
   "outputs": [],
   "source": [
    "genres_freq = dict(Counter([element[\"name\"] for element in all_genres]).most_common())"
   ]
  },
  {
   "cell_type": "code",
   "execution_count": 13,
   "id": "a024dc9e",
   "metadata": {},
   "outputs": [
    {
     "data": {
      "text/plain": [
       "20"
      ]
     },
     "execution_count": 13,
     "metadata": {},
     "output_type": "execute_result"
    }
   ],
   "source": [
    "len(genres_freq)"
   ]
  },
  {
   "cell_type": "code",
   "execution_count": 14,
   "id": "69081bcd",
   "metadata": {
    "scrolled": true
   },
   "outputs": [
    {
     "data": {
      "text/plain": [
       "{'Drama': 19889,\n",
       " 'Comedy': 12652,\n",
       " 'Thriller': 7543,\n",
       " 'Romance': 6638,\n",
       " 'Action': 6526,\n",
       " 'Horror': 4625,\n",
       " 'Crime': 4249,\n",
       " 'Documentary': 3824,\n",
       " 'Adventure': 3458,\n",
       " 'Science Fiction': 3007,\n",
       " 'Family': 2712,\n",
       " 'Mystery': 2445,\n",
       " 'Fantasy': 2275,\n",
       " 'Animation': 1896,\n",
       " 'Foreign': 1579,\n",
       " 'Music': 1566,\n",
       " 'History': 1375,\n",
       " 'War': 1306,\n",
       " 'Western': 1027,\n",
       " 'TV Movie': 744}"
      ]
     },
     "execution_count": 14,
     "metadata": {},
     "output_type": "execute_result"
    }
   ],
   "source": [
    "genres_freq"
   ]
  },
  {
   "cell_type": "markdown",
   "id": "bbb34eae",
   "metadata": {},
   "source": [
    "In scope of this project, we want to reduce the number of possible genres to `num_of_genres`, removing the less common ones.\n",
    "So we define a subset of genre values as the `num_of_genres` most common and we filter out, for each movie, the genres not included in this short list."
   ]
  },
  {
   "cell_type": "code",
   "execution_count": 15,
   "id": "a1e6ff9c",
   "metadata": {},
   "outputs": [
    {
     "name": "stdout",
     "output_type": "stream",
     "text": [
      "10\n"
     ]
    }
   ],
   "source": [
    "print(num_of_genres)"
   ]
  },
  {
   "cell_type": "code",
   "execution_count": 16,
   "id": "920bde1a",
   "metadata": {},
   "outputs": [],
   "source": [
    "genres_list = list(genres_freq.keys())"
   ]
  },
  {
   "cell_type": "code",
   "execution_count": 17,
   "id": "c7fdc600",
   "metadata": {},
   "outputs": [],
   "source": [
    "genres_subset = genres_list[:num_of_genres]"
   ]
  },
  {
   "cell_type": "code",
   "execution_count": 18,
   "id": "a085e964",
   "metadata": {},
   "outputs": [
    {
     "data": {
      "text/plain": [
       "['Drama',\n",
       " 'Comedy',\n",
       " 'Thriller',\n",
       " 'Romance',\n",
       " 'Action',\n",
       " 'Horror',\n",
       " 'Crime',\n",
       " 'Documentary',\n",
       " 'Adventure',\n",
       " 'Science Fiction']"
      ]
     },
     "execution_count": 18,
     "metadata": {},
     "output_type": "execute_result"
    }
   ],
   "source": [
    "genres_subset"
   ]
  },
  {
   "cell_type": "code",
   "execution_count": 19,
   "id": "cb5d4994",
   "metadata": {},
   "outputs": [],
   "source": [
    "movies['accepted_genres'] = movies.genres.apply(\n",
    "    lambda x: list(set([elem_[\"name\"] for elem_ in x ])\\\n",
    "                  .intersection(set(genres_subset))))"
   ]
  },
  {
   "cell_type": "markdown",
   "id": "f7d5ba12",
   "metadata": {},
   "source": [
    "We now have some movies for which, because this filtering, there is no genre associated. We remove them and we create a new dataframe `movies_reduced`."
   ]
  },
  {
   "cell_type": "code",
   "execution_count": 20,
   "id": "86a31c47",
   "metadata": {},
   "outputs": [
    {
     "data": {
      "text/plain": [
       "((1429, 5), (41910, 5))"
      ]
     },
     "execution_count": 20,
     "metadata": {},
     "output_type": "execute_result"
    }
   ],
   "source": [
    "movies[movies.accepted_genres.apply(len)==0].shape, movies.shape"
   ]
  },
  {
   "cell_type": "code",
   "execution_count": 21,
   "id": "17add165",
   "metadata": {},
   "outputs": [],
   "source": [
    "movies_reduced = movies[movies.accepted_genres.apply(len)>0].copy()"
   ]
  },
  {
   "cell_type": "markdown",
   "id": "5d135f52",
   "metadata": {},
   "source": [
    "Finally, we want to have just one genre per movie, so we define the column `unique genre` as the first genre of the list."
   ]
  },
  {
   "cell_type": "code",
   "execution_count": 22,
   "id": "6e48f30b",
   "metadata": {},
   "outputs": [],
   "source": [
    "movies_reduced['unique_genre'] = movies_reduced.accepted_genres.apply(lambda x: x[0])"
   ]
  },
  {
   "cell_type": "code",
   "execution_count": 23,
   "id": "25c3cbfe",
   "metadata": {},
   "outputs": [
    {
     "data": {
      "text/html": [
       "<div>\n",
       "<style scoped>\n",
       "    .dataframe tbody tr th:only-of-type {\n",
       "        vertical-align: middle;\n",
       "    }\n",
       "\n",
       "    .dataframe tbody tr th {\n",
       "        vertical-align: top;\n",
       "    }\n",
       "\n",
       "    .dataframe thead th {\n",
       "        text-align: right;\n",
       "    }\n",
       "</style>\n",
       "<table border=\"1\" class=\"dataframe\">\n",
       "  <thead>\n",
       "    <tr style=\"text-align: right;\">\n",
       "      <th></th>\n",
       "      <th>genres</th>\n",
       "      <th>id</th>\n",
       "      <th>overview</th>\n",
       "      <th>title</th>\n",
       "      <th>accepted_genres</th>\n",
       "      <th>unique_genre</th>\n",
       "    </tr>\n",
       "  </thead>\n",
       "  <tbody>\n",
       "    <tr>\n",
       "      <th>0</th>\n",
       "      <td>[{'id': 16, 'name': 'Animation'}, {'id': 35, '...</td>\n",
       "      <td>862</td>\n",
       "      <td>Led by Woody, Andy's toys live happily in his ...</td>\n",
       "      <td>Toy Story</td>\n",
       "      <td>[Comedy]</td>\n",
       "      <td>Comedy</td>\n",
       "    </tr>\n",
       "    <tr>\n",
       "      <th>1</th>\n",
       "      <td>[{'id': 12, 'name': 'Adventure'}, {'id': 14, '...</td>\n",
       "      <td>8844</td>\n",
       "      <td>When siblings Judy and Peter discover an encha...</td>\n",
       "      <td>Jumanji</td>\n",
       "      <td>[Adventure]</td>\n",
       "      <td>Adventure</td>\n",
       "    </tr>\n",
       "    <tr>\n",
       "      <th>2</th>\n",
       "      <td>[{'id': 10749, 'name': 'Romance'}, {'id': 35, ...</td>\n",
       "      <td>15602</td>\n",
       "      <td>A family wedding reignites the ancient feud be...</td>\n",
       "      <td>Grumpier Old Men</td>\n",
       "      <td>[Comedy, Romance]</td>\n",
       "      <td>Comedy</td>\n",
       "    </tr>\n",
       "  </tbody>\n",
       "</table>\n",
       "</div>"
      ],
      "text/plain": [
       "                                              genres     id  \\\n",
       "0  [{'id': 16, 'name': 'Animation'}, {'id': 35, '...    862   \n",
       "1  [{'id': 12, 'name': 'Adventure'}, {'id': 14, '...   8844   \n",
       "2  [{'id': 10749, 'name': 'Romance'}, {'id': 35, ...  15602   \n",
       "\n",
       "                                            overview             title  \\\n",
       "0  Led by Woody, Andy's toys live happily in his ...         Toy Story   \n",
       "1  When siblings Judy and Peter discover an encha...           Jumanji   \n",
       "2  A family wedding reignites the ancient feud be...  Grumpier Old Men   \n",
       "\n",
       "     accepted_genres unique_genre  \n",
       "0           [Comedy]       Comedy  \n",
       "1        [Adventure]    Adventure  \n",
       "2  [Comedy, Romance]       Comedy  "
      ]
     },
     "execution_count": 23,
     "metadata": {},
     "output_type": "execute_result"
    }
   ],
   "source": [
    "movies_reduced.head(3)"
   ]
  },
  {
   "cell_type": "code",
   "execution_count": 24,
   "id": "dd27c4b1",
   "metadata": {},
   "outputs": [
    {
     "data": {
      "text/plain": [
       "(40481, 6)"
      ]
     },
     "execution_count": 24,
     "metadata": {},
     "output_type": "execute_result"
    }
   ],
   "source": [
    "movies_reduced.shape"
   ]
  },
  {
   "cell_type": "markdown",
   "id": "70991609",
   "metadata": {},
   "source": [
    "We finally have our data set ready!"
   ]
  },
  {
   "cell_type": "markdown",
   "id": "84f5a514",
   "metadata": {},
   "source": [
    "## 1.4 Vectorization"
   ]
  },
  {
   "cell_type": "markdown",
   "id": "45d0f3a6",
   "metadata": {},
   "source": [
    "Overview values are strings, we want to tokenize them before they are given as input to the model. We set a vocabulary length `num_words` to consider only the most common words."
   ]
  },
  {
   "cell_type": "code",
   "execution_count": 25,
   "id": "d58d8e91",
   "metadata": {},
   "outputs": [
    {
     "name": "stdout",
     "output_type": "stream",
     "text": [
      "10000\n"
     ]
    }
   ],
   "source": [
    "print(num_words)"
   ]
  },
  {
   "cell_type": "code",
   "execution_count": 26,
   "id": "fd2ff5f8",
   "metadata": {},
   "outputs": [],
   "source": [
    "tokenizer = Tokenizer(num_words=num_words, filters='!\"#$%&()*+,-./:;<=>?@[\\\\]^_`{|}~\\t\\n',)"
   ]
  },
  {
   "cell_type": "code",
   "execution_count": 27,
   "id": "1286fdc9",
   "metadata": {},
   "outputs": [],
   "source": [
    "tokenizer.fit_on_texts(movies_reduced.overview)"
   ]
  },
  {
   "cell_type": "code",
   "execution_count": 28,
   "id": "52078966",
   "metadata": {},
   "outputs": [
    {
     "data": {
      "text/plain": [
       "81888"
      ]
     },
     "execution_count": 28,
     "metadata": {},
     "output_type": "execute_result"
    }
   ],
   "source": [
    "len(tokenizer.word_index)"
   ]
  },
  {
   "cell_type": "code",
   "execution_count": 29,
   "id": "8884e293",
   "metadata": {},
   "outputs": [],
   "source": [
    "tokenized_overviews = tokenizer.texts_to_sequences(movies_reduced.overview.str.split())"
   ]
  },
  {
   "cell_type": "markdown",
   "id": "8487a585",
   "metadata": {},
   "source": [
    "We transform genre value to the correspondant index of the genres list, creating the genre label"
   ]
  },
  {
   "cell_type": "code",
   "execution_count": 30,
   "id": "f7db9c7e",
   "metadata": {},
   "outputs": [],
   "source": [
    "genre_labels = movies_reduced.unique_genre.apply(lambda x: genres_subset.index(x)).tolist()"
   ]
  },
  {
   "cell_type": "markdown",
   "id": "cfc5b989",
   "metadata": {},
   "source": [
    "# 2. The model"
   ]
  },
  {
   "cell_type": "markdown",
   "id": "eb66ba32",
   "metadata": {},
   "source": [
    "## 2.1 Data encoding"
   ]
  },
  {
   "cell_type": "markdown",
   "id": "85738771",
   "metadata": {},
   "source": [
    "We want to one-hot encode both tokenized overviews and genre indexes."
   ]
  },
  {
   "cell_type": "code",
   "execution_count": 31,
   "id": "991e0e43",
   "metadata": {},
   "outputs": [],
   "source": [
    "vectorized_overviews = np.zeros((len(tokenized_overviews), num_words), bool)"
   ]
  },
  {
   "cell_type": "code",
   "execution_count": 32,
   "id": "21c7f4e7",
   "metadata": {},
   "outputs": [],
   "source": [
    "for i, tokenized_ov in enumerate(tokenized_overviews):\n",
    "    vectorized_overviews[i, tokenized_ov]=True"
   ]
  },
  {
   "cell_type": "code",
   "execution_count": 33,
   "id": "39adc6c4",
   "metadata": {},
   "outputs": [
    {
     "data": {
      "text/plain": [
       "array([[False,  True, False, ..., False, False, False],\n",
       "       [False,  True,  True, ..., False, False, False],\n",
       "       [False,  True,  True, ..., False, False, False],\n",
       "       ...,\n",
       "       [False,  True,  True, ..., False, False, False],\n",
       "       [False, False,  True, ..., False, False, False],\n",
       "       [False, False,  True, ..., False, False, False]])"
      ]
     },
     "execution_count": 33,
     "metadata": {},
     "output_type": "execute_result"
    }
   ],
   "source": [
    "vectorized_overviews"
   ]
  },
  {
   "cell_type": "code",
   "execution_count": 34,
   "id": "e7ac6e6b",
   "metadata": {},
   "outputs": [],
   "source": [
    "genre_one_hot = to_categorical(genre_labels)"
   ]
  },
  {
   "cell_type": "code",
   "execution_count": 35,
   "id": "546e3656",
   "metadata": {},
   "outputs": [
    {
     "data": {
      "text/plain": [
       "array([[0., 1., 0., ..., 0., 0., 0.],\n",
       "       [0., 0., 0., ..., 0., 1., 0.],\n",
       "       [0., 1., 0., ..., 0., 0., 0.],\n",
       "       ...,\n",
       "       [1., 0., 0., ..., 0., 0., 0.],\n",
       "       [1., 0., 0., ..., 0., 0., 0.],\n",
       "       [1., 0., 0., ..., 0., 0., 0.]], dtype=float32)"
      ]
     },
     "execution_count": 35,
     "metadata": {},
     "output_type": "execute_result"
    }
   ],
   "source": [
    "genre_one_hot"
   ]
  },
  {
   "cell_type": "markdown",
   "id": "453a9af3",
   "metadata": {},
   "source": [
    "## 2.2 Split train test"
   ]
  },
  {
   "cell_type": "markdown",
   "id": "5ff8b064",
   "metadata": {},
   "source": [
    "We can now split the input set in train and test. Part of the train one will be used as validation set."
   ]
  },
  {
   "cell_type": "code",
   "execution_count": 36,
   "id": "df0c8eab",
   "metadata": {},
   "outputs": [],
   "source": [
    "test_size = 10000"
   ]
  },
  {
   "cell_type": "code",
   "execution_count": 37,
   "id": "22437209",
   "metadata": {},
   "outputs": [],
   "source": [
    "vectorized_overviews_train = vectorized_overviews[:-test_size]"
   ]
  },
  {
   "cell_type": "code",
   "execution_count": 38,
   "id": "9fe0bdb4",
   "metadata": {},
   "outputs": [],
   "source": [
    "vectorized_overviews_test = vectorized_overviews[-test_size:]"
   ]
  },
  {
   "cell_type": "code",
   "execution_count": 39,
   "id": "d12b9df1",
   "metadata": {},
   "outputs": [
    {
     "data": {
      "text/plain": [
       "(30481, 10000)"
      ]
     },
     "execution_count": 39,
     "metadata": {},
     "output_type": "execute_result"
    }
   ],
   "source": [
    "len(vectorized_overviews_train),len(vectorized_overviews_test)"
   ]
  },
  {
   "cell_type": "code",
   "execution_count": 40,
   "id": "38556620",
   "metadata": {},
   "outputs": [],
   "source": [
    "genre_one_hot_train = genre_one_hot[:-test_size]\n",
    "genre_one_hot_test = genre_one_hot[-test_size:]"
   ]
  },
  {
   "cell_type": "code",
   "execution_count": 41,
   "id": "a6ac4137",
   "metadata": {},
   "outputs": [
    {
     "data": {
      "text/plain": [
       "(30481, 10000)"
      ]
     },
     "execution_count": 41,
     "metadata": {},
     "output_type": "execute_result"
    }
   ],
   "source": [
    "len(genre_one_hot_train),len(genre_one_hot_test)"
   ]
  },
  {
   "cell_type": "markdown",
   "id": "1d2ab251",
   "metadata": {},
   "source": [
    "## 2.3 Architecture of the NN"
   ]
  },
  {
   "cell_type": "markdown",
   "id": "52306cfb",
   "metadata": {},
   "source": [
    "The definition of the architecture of the network is the setting of all the hyperparameters (number of layers, number of nodes, activation functions, ...)."
   ]
  },
  {
   "cell_type": "code",
   "execution_count": 42,
   "id": "4cb89a32",
   "metadata": {},
   "outputs": [
    {
     "name": "stderr",
     "output_type": "stream",
     "text": [
      "2021-07-11 10:45:26.386501: I tensorflow/compiler/jit/xla_cpu_device.cc:41] Not creating XLA devices, tf_xla_enable_xla_devices not set\n",
      "2021-07-11 10:45:26.386764: I tensorflow/core/platform/cpu_feature_guard.cc:142] This TensorFlow binary is optimized with oneAPI Deep Neural Network Library (oneDNN) to use the following CPU instructions in performance-critical operations:  SSE4.1 SSE4.2 AVX AVX2 FMA\n",
      "To enable them in other operations, rebuild TensorFlow with the appropriate compiler flags.\n",
      "2021-07-11 10:45:26.388053: I tensorflow/core/common_runtime/process_util.cc:146] Creating new thread pool with default inter op setting: 2. Tune using inter_op_parallelism_threads for best performance.\n"
     ]
    }
   ],
   "source": [
    "model = models.Sequential()\n",
    "model.add(layers.Dense(128, activation='relu', input_shape=(num_words,)))\n",
    "model.add(layers.Dense(128, activation='relu'))\n",
    "model.add(layers.Dense(num_of_genres, activation='softmax'))"
   ]
  },
  {
   "cell_type": "markdown",
   "id": "8081b68f",
   "metadata": {},
   "source": [
    "## 2.4 Compiling"
   ]
  },
  {
   "cell_type": "markdown",
   "id": "b3db3450",
   "metadata": {},
   "source": [
    "We define the optimizer, loss function and the evaluation metrics."
   ]
  },
  {
   "cell_type": "code",
   "execution_count": 43,
   "id": "a1c63b3e",
   "metadata": {},
   "outputs": [],
   "source": [
    "model.compile(optimizer='rmsprop',\n",
    "              loss='categorical_crossentropy',\n",
    "              metrics=['accuracy'])"
   ]
  },
  {
   "cell_type": "markdown",
   "id": "f8402a97",
   "metadata": {},
   "source": [
    "## 2.5 Training"
   ]
  },
  {
   "cell_type": "markdown",
   "id": "11e6780b",
   "metadata": {},
   "source": [
    "Finally we train the Net"
   ]
  },
  {
   "cell_type": "code",
   "execution_count": 44,
   "id": "78581769",
   "metadata": {},
   "outputs": [
    {
     "name": "stderr",
     "output_type": "stream",
     "text": [
      "2021-07-11 10:45:28.809598: I tensorflow/compiler/mlir/mlir_graph_optimization_pass.cc:116] None of the MLIR optimization passes are enabled (registered 2)\n",
      "2021-07-11 10:45:28.827446: I tensorflow/core/platform/profile_utils/cpu_utils.cc:112] CPU Frequency: 2299965000 Hz\n"
     ]
    },
    {
     "name": "stdout",
     "output_type": "stream",
     "text": [
      "Epoch 1/10\n",
      "54/54 [==============================] - 3s 39ms/step - loss: 1.7306 - accuracy: 0.4553 - val_loss: 1.4478 - val_accuracy: 0.4907\n",
      "Epoch 2/10\n",
      "54/54 [==============================] - 2s 44ms/step - loss: 1.1180 - accuracy: 0.6184 - val_loss: 1.3428 - val_accuracy: 0.5392\n",
      "Epoch 3/10\n",
      "54/54 [==============================] - 4s 68ms/step - loss: 0.8684 - accuracy: 0.7099 - val_loss: 1.4232 - val_accuracy: 0.5277\n",
      "Epoch 4/10\n",
      "54/54 [==============================] - 5s 89ms/step - loss: 0.6891 - accuracy: 0.7742 - val_loss: 1.5004 - val_accuracy: 0.5228\n",
      "Epoch 5/10\n",
      "54/54 [==============================] - 4s 80ms/step - loss: 0.5487 - accuracy: 0.8254 - val_loss: 1.6793 - val_accuracy: 0.5162\n",
      "Epoch 6/10\n",
      "54/54 [==============================] - 4s 68ms/step - loss: 0.4246 - accuracy: 0.8695 - val_loss: 1.7759 - val_accuracy: 0.5038\n",
      "Epoch 7/10\n",
      "54/54 [==============================] - 4s 70ms/step - loss: 0.3226 - accuracy: 0.9069 - val_loss: 2.0762 - val_accuracy: 0.4985\n",
      "Epoch 8/10\n",
      "54/54 [==============================] - 4s 66ms/step - loss: 0.2399 - accuracy: 0.9325 - val_loss: 2.2384 - val_accuracy: 0.5038\n",
      "Epoch 9/10\n",
      "54/54 [==============================] - 3s 60ms/step - loss: 0.1748 - accuracy: 0.9551 - val_loss: 2.3807 - val_accuracy: 0.4893\n",
      "Epoch 10/10\n",
      "54/54 [==============================] - 3s 63ms/step - loss: 0.1190 - accuracy: 0.9728 - val_loss: 2.7127 - val_accuracy: 0.4907\n"
     ]
    }
   ],
   "source": [
    "history = model.fit(vectorized_overviews_train,\n",
    "                    genre_one_hot_train,\n",
    "                    epochs=10,\n",
    "                    batch_size=512,\n",
    "                    validation_split=0.1)"
   ]
  },
  {
   "cell_type": "markdown",
   "id": "b513632d",
   "metadata": {},
   "source": [
    "## 2.6 NN evaluation"
   ]
  },
  {
   "cell_type": "markdown",
   "id": "f4396ae2",
   "metadata": {},
   "source": [
    "We evaluate the NN performance on the training and validation sets, looking both at the loss function and accuracy metrics."
   ]
  },
  {
   "cell_type": "code",
   "execution_count": 58,
   "id": "b09e50cd",
   "metadata": {},
   "outputs": [
    {
     "data": {
      "image/png": "[encoded data removed]",
      "text/plain": [
       "<Figure size 1440x720 with 1 Axes>"
      ]
     },
     "metadata": {
      "needs_background": "light"
     },
     "output_type": "display_data"
    }
   ],
   "source": [
    "loss = history.history['loss']\n",
    "val_loss = history.history['val_loss']\n",
    "\n",
    "epochs = range(1, len(loss) + 1)\n",
    "\n",
    "plt.figure(figsize=(20,10))\n",
    "plt.grid()\n",
    "plt.plot(epochs, loss, 'red', label='Training loss')\n",
    "plt.plot(epochs, val_loss, 'blue', label='Validation loss')\n",
    "plt.title('Training and validation loss')\n",
    "plt.xlabel('Epochs')\n",
    "plt.ylabel('Loss')\n",
    "plt.legend()\n",
    "\n",
    "plt.show()"
   ]
  },
  {
   "cell_type": "code",
   "execution_count": 62,
   "id": "be32b527",
   "metadata": {},
   "outputs": [
    {
     "data": {
      "image/png": "[encoded data removed]",
      "text/plain": [
       "<Figure size 1440x720 with 1 Axes>"
      ]
     },
     "metadata": {
      "needs_background": "light"
     },
     "output_type": "display_data"
    }
   ],
   "source": [
    "acc = history.history['accuracy']\n",
    "val_acc = history.history['val_accuracy']\n",
    "\n",
    "plt.figure(figsize=(20,10))\n",
    "plt.grid();\n",
    "plt.plot(epochs, acc, 'red', label='Training accuracy')\n",
    "plt.plot(epochs, val_acc, 'blue', label='Validation accuracy')\n",
    "plt.title('Training and validation accuracy')\n",
    "plt.xlabel('Epochs')\n",
    "plt.ylabel('Loss')\n",
    "plt.legend()\n",
    "\n",
    "plt.show()"
   ]
  },
  {
   "cell_type": "markdown",
   "id": "9a092058",
   "metadata": {},
   "source": [
    "Then we evaluate the performance on the test set."
   ]
  },
  {
   "cell_type": "code",
   "execution_count": 51,
   "id": "38f8f775",
   "metadata": {},
   "outputs": [
    {
     "name": "stdout",
     "output_type": "stream",
     "text": [
      "313/313 [==============================] - 3s 9ms/step - loss: 2.8323 - accuracy: 0.4158\n"
     ]
    },
    {
     "data": {
      "text/plain": [
       "[2.832263946533203, 0.415800005197525]"
      ]
     },
     "execution_count": 51,
     "metadata": {},
     "output_type": "execute_result"
    }
   ],
   "source": [
    "model.evaluate(vectorized_overviews_test, genre_one_hot_test)"
   ]
  },
  {
   "cell_type": "markdown",
   "id": "d9cad9f2",
   "metadata": {},
   "source": [
    "# 3. Saving the outputs"
   ]
  },
  {
   "cell_type": "markdown",
   "id": "95a4adde",
   "metadata": {},
   "source": [
    "We save the outputs to make them available to the application."
   ]
  },
  {
   "cell_type": "code",
   "execution_count": 52,
   "id": "25c9ff4d",
   "metadata": {},
   "outputs": [
    {
     "name": "stderr",
     "output_type": "stream",
     "text": [
      "2021-07-10 18:28:34.085196: W tensorflow/python/util/util.cc:348] Sets are not currently considered sequences, but this may change in the future, so consider avoiding using them.\n"
     ]
    },
    {
     "name": "stdout",
     "output_type": "stream",
     "text": [
      "INFO:tensorflow:Assets written to: ../trained_model/nn/assets\n"
     ]
    }
   ],
   "source": [
    "model.save(output_folder_path+'nn/')"
   ]
  },
  {
   "cell_type": "code",
   "execution_count": 53,
   "id": "1214fa3e",
   "metadata": {},
   "outputs": [],
   "source": [
    "with open(output_folder_path+'genres_subset.txt', \"wb\") as fp:\n",
    "    pickle.dump(genres_subset, fp)\n",
    "\n",
    "with open(output_folder_path+'tokenizer.txt', \"wb\") as fp:\n",
    "    pickle.dump(tokenizer, fp)"
   ]
  }
 ],
 "metadata": {
  "kernelspec": {
   "display_name": "Python 3 (ipykernel)",
   "language": "python",
   "name": "python3"
  },
  "language_info": {
   "codemirror_mode": {
    "name": "ipython",
    "version": 3
   },
   "file_extension": ".py",
   "mimetype": "text/x-python",
   "name": "python",
   "nbconvert_exporter": "python",
   "pygments_lexer": "ipython3",
   "version": "3.9.5"
  }
 },
 "nbformat": 4,
 "nbformat_minor": 5
}
